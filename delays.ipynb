{
  "nbformat": 4,
  "nbformat_minor": 0,
  "metadata": {
    "colab": {
      "provenance": []
    },
    "kernelspec": {
      "name": "python3",
      "display_name": "Python 3"
    },
    "language_info": {
      "name": "python"
    },
    "accelerator": "GPU",
    "gpuClass": "standard"
  },
  "cells": [
    {
      "cell_type": "markdown",
      "source": [
        "#Building a classification model using XGBoost in Python\n"
      ],
      "metadata": {
        "id": "05x_Vx8_pyaL"
      }
    },
    {
      "cell_type": "markdown",
      "source": [
        "##Introduction"
      ],
      "metadata": {
        "id": "7mtkRjgMqMG8"
      }
    },
    {
      "cell_type": "markdown",
      "source": [
        "###Breakdown of XGBoost"
      ],
      "metadata": {
        "id": "HuFmja4SqRgg"
      }
    },
    {
      "cell_type": "markdown",
      "source": [
        "XGBoost, or Extreme Gradient Boosting, is a high-performing, regularized form of gradient boosting. For this project, I'm going to assume that you have a basic understanding of tree-based models and the gradient boosting algorithm. Like gradient boosting, XGBoost trains tree models sequentially and learns and improves at each step based on the results of the last step. Gradient boosting does this by taking the derivative, or gradient, of the loss function. Using a set learning rate and step size, this gradient is used to update parameters until they converge to an optimal solution. \n",
        "\n",
        "XGBoost builds on this gradient algorithm by taking the second derivative of the loss function and by adding L1/L2 regularization to the model to improve performance. The model is represented mathematically as follows:\n",
        "\n",
        "\n",
        "$$obj(\\theta) = L(\\theta) + Ω(\\theta)$$ where $L$ represents the loss function and $\\Omega$ represents the regularization term. \n",
        "\n",
        "XGBoost also takes advantage of parallel/distriubuted computing, which allows for incredibly fast performance when training on large datasets."
      ],
      "metadata": {
        "id": "2R6v3PdZrrT5"
      }
    },
    {
      "cell_type": "markdown",
      "source": [
        "### Running XGBoost in Python"
      ],
      "metadata": {
        "id": "IXRx4IjMeft4"
      }
    },
    {
      "cell_type": "markdown",
      "source": [
        "XGBoost models can be easily implemented using the `xgboost` library, with installation instructions found at (https://xgboost.readthedocs.io/en/stable/install.html).\n",
        "\n",
        "Like all machine learning techniques, some preprocessing steps are needed to make sure the model runs well.\n",
        "\n",
        "In order to practice, we will be taking a look at a subset of data that was compiled from the Bureau of Trans- portation statistics and National Centers for Environmental Information (NOAA) that contains detailed airline, weather, airport and employment information. The goal is to predict whether or not a flight will be delayed by more than 15 minutes (DEP DEL15)."
      ],
      "metadata": {
        "id": "T09O3JuNejfp"
      }
    },
    {
      "cell_type": "markdown",
      "source": [
        "#### Import Data"
      ],
      "metadata": {
        "id": "951QqQyofi7k"
      }
    },
    {
      "cell_type": "markdown",
      "source": [
        "I will be coding this up in google colab in order to take advantage of their free GPU's for training the model later. Lets start by importing packages, and importing data. In addition to the xgboost library, we will be using os, pandas, and numpy to assist in computing; sklearn for data preprocessing and model evaluation; and hyperopt for hyperparameter tuning."
      ],
      "metadata": {
        "id": "mMIWwXwIf2lN"
      }
    },
    {
      "cell_type": "code",
      "source": [
        "# required packages\n",
        "import os\n",
        "import pandas as pd\n",
        "import numpy as np\n",
        "import seaborn as sns\n",
        "import matplotlib.pyplot as plt\n",
        "from xgboost import XGBClassifier\n",
        "from sklearn.pipeline import Pipeline\n",
        "from sklearn.ensemble import RandomForestClassifier, GradientBoostingClassifier\n",
        "from sklearn.compose import ColumnTransformer\n",
        "from sklearn.preprocessing import StandardScaler, OneHotEncoder\n",
        "from sklearn.model_selection import train_test_split, cross_val_score, StratifiedKFold, GridSearchCV\n",
        "from sklearn.metrics import accuracy_score, f1_score, roc_auc_score\n",
        "from hyperopt import tpe, STATUS_OK, Trials, hp, fmin, STATUS_OK, space_eval"
      ],
      "metadata": {
        "id": "x5x_MlLDgHUf"
      },
      "execution_count": 47,
      "outputs": []
    },
    {
      "cell_type": "code",
      "source": [
        "# setting filepath to read data\n",
        "os.chdir('/content/drive/MyDrive/project2')"
      ],
      "metadata": {
        "id": "QYbt0fKkfnho"
      },
      "execution_count": 2,
      "outputs": []
    },
    {
      "cell_type": "code",
      "source": [
        "# reading data\n",
        "df = pd.read_csv('train_data.csv.zip')"
      ],
      "metadata": {
        "id": "SQ9LvGcOgWMC"
      },
      "execution_count": 3,
      "outputs": []
    },
    {
      "cell_type": "markdown",
      "source": [
        "#### Explore data"
      ],
      "metadata": {
        "id": "cQ1noJ_-hjxZ"
      }
    },
    {
      "cell_type": "code",
      "source": [
        "df.head()"
      ],
      "metadata": {
        "colab": {
          "base_uri": "https://localhost:8080/",
          "height": 233
        },
        "id": "ZhALsDkggZwy",
        "outputId": "a7a7078a-7760-422f-8efb-746b662446c2"
      },
      "execution_count": 4,
      "outputs": [
        {
          "output_type": "execute_result",
          "data": {
            "text/plain": [
              "   MONTH  DAY_OF_WEEK  DEP_DEL15 DEP_TIME_BLK  DISTANCE_GROUP  SEGMENT_NUMBER  \\\n",
              "0      3            4          0    2200-2259               2               8   \n",
              "1      2            1          0    2000-2059               2               6   \n",
              "2      9            1          1    1800-1859               3               8   \n",
              "3      5            3          0    1600-1659               3               3   \n",
              "4      6            7          0    1900-1959               2               1   \n",
              "\n",
              "   CONCURRENT_FLIGHTS  NUMBER_OF_SEATS                  CARRIER_NAME  \\\n",
              "0                  21               90                   Comair Inc.   \n",
              "1                  44              180          Delta Air Lines Inc.   \n",
              "2                  92               50  American Eagle Airlines Inc.   \n",
              "3                  72              129          Delta Air Lines Inc.   \n",
              "4                  56              173         United Air Lines Inc.   \n",
              "\n",
              "   AIRPORT_FLIGHTS_MONTH  ...  PLANE_AGE                  DEPARTING_AIRPORT  \\\n",
              "0                  11965  ...          5  Ronald Reagan Washington National   \n",
              "1                  10714  ...          6  Minneapolis-St Paul International   \n",
              "2                  28583  ...         21       Chicago O'Hare International   \n",
              "3                  34238  ...         11                  Atlanta Municipal   \n",
              "4                  28904  ...          6       Chicago O'Hare International   \n",
              "\n",
              "   LATITUDE  LONGITUDE            PREVIOUS_AIRPORT  PRCP  SNOW SNWD  TMAX  \\\n",
              "0    38.852    -77.037       Memphis International  0.00   0.0  0.0  64.0   \n",
              "1    44.886    -93.218     Stapleton International  0.01   0.0  0.0  81.0   \n",
              "2    41.978    -87.906         Rochester Municipal  0.00   0.0  0.0  74.0   \n",
              "3    33.641    -84.427  Jacksonville International  0.00   0.0  0.0  84.0   \n",
              "4    41.978    -87.906                        NONE  0.38   0.0  0.0  81.0   \n",
              "\n",
              "    AWND  \n",
              "0   8.50  \n",
              "1   6.93  \n",
              "2   7.83  \n",
              "3   6.71  \n",
              "4  10.29  \n",
              "\n",
              "[5 rows x 26 columns]"
            ],
            "text/html": [
              "\n",
              "  <div id=\"df-e2090070-d1c4-4469-80c6-4edaf804ddd2\">\n",
              "    <div class=\"colab-df-container\">\n",
              "      <div>\n",
              "<style scoped>\n",
              "    .dataframe tbody tr th:only-of-type {\n",
              "        vertical-align: middle;\n",
              "    }\n",
              "\n",
              "    .dataframe tbody tr th {\n",
              "        vertical-align: top;\n",
              "    }\n",
              "\n",
              "    .dataframe thead th {\n",
              "        text-align: right;\n",
              "    }\n",
              "</style>\n",
              "<table border=\"1\" class=\"dataframe\">\n",
              "  <thead>\n",
              "    <tr style=\"text-align: right;\">\n",
              "      <th></th>\n",
              "      <th>MONTH</th>\n",
              "      <th>DAY_OF_WEEK</th>\n",
              "      <th>DEP_DEL15</th>\n",
              "      <th>DEP_TIME_BLK</th>\n",
              "      <th>DISTANCE_GROUP</th>\n",
              "      <th>SEGMENT_NUMBER</th>\n",
              "      <th>CONCURRENT_FLIGHTS</th>\n",
              "      <th>NUMBER_OF_SEATS</th>\n",
              "      <th>CARRIER_NAME</th>\n",
              "      <th>AIRPORT_FLIGHTS_MONTH</th>\n",
              "      <th>...</th>\n",
              "      <th>PLANE_AGE</th>\n",
              "      <th>DEPARTING_AIRPORT</th>\n",
              "      <th>LATITUDE</th>\n",
              "      <th>LONGITUDE</th>\n",
              "      <th>PREVIOUS_AIRPORT</th>\n",
              "      <th>PRCP</th>\n",
              "      <th>SNOW</th>\n",
              "      <th>SNWD</th>\n",
              "      <th>TMAX</th>\n",
              "      <th>AWND</th>\n",
              "    </tr>\n",
              "  </thead>\n",
              "  <tbody>\n",
              "    <tr>\n",
              "      <th>0</th>\n",
              "      <td>3</td>\n",
              "      <td>4</td>\n",
              "      <td>0</td>\n",
              "      <td>2200-2259</td>\n",
              "      <td>2</td>\n",
              "      <td>8</td>\n",
              "      <td>21</td>\n",
              "      <td>90</td>\n",
              "      <td>Comair Inc.</td>\n",
              "      <td>11965</td>\n",
              "      <td>...</td>\n",
              "      <td>5</td>\n",
              "      <td>Ronald Reagan Washington National</td>\n",
              "      <td>38.852</td>\n",
              "      <td>-77.037</td>\n",
              "      <td>Memphis International</td>\n",
              "      <td>0.00</td>\n",
              "      <td>0.0</td>\n",
              "      <td>0.0</td>\n",
              "      <td>64.0</td>\n",
              "      <td>8.50</td>\n",
              "    </tr>\n",
              "    <tr>\n",
              "      <th>1</th>\n",
              "      <td>2</td>\n",
              "      <td>1</td>\n",
              "      <td>0</td>\n",
              "      <td>2000-2059</td>\n",
              "      <td>2</td>\n",
              "      <td>6</td>\n",
              "      <td>44</td>\n",
              "      <td>180</td>\n",
              "      <td>Delta Air Lines Inc.</td>\n",
              "      <td>10714</td>\n",
              "      <td>...</td>\n",
              "      <td>6</td>\n",
              "      <td>Minneapolis-St Paul International</td>\n",
              "      <td>44.886</td>\n",
              "      <td>-93.218</td>\n",
              "      <td>Stapleton International</td>\n",
              "      <td>0.01</td>\n",
              "      <td>0.0</td>\n",
              "      <td>0.0</td>\n",
              "      <td>81.0</td>\n",
              "      <td>6.93</td>\n",
              "    </tr>\n",
              "    <tr>\n",
              "      <th>2</th>\n",
              "      <td>9</td>\n",
              "      <td>1</td>\n",
              "      <td>1</td>\n",
              "      <td>1800-1859</td>\n",
              "      <td>3</td>\n",
              "      <td>8</td>\n",
              "      <td>92</td>\n",
              "      <td>50</td>\n",
              "      <td>American Eagle Airlines Inc.</td>\n",
              "      <td>28583</td>\n",
              "      <td>...</td>\n",
              "      <td>21</td>\n",
              "      <td>Chicago O'Hare International</td>\n",
              "      <td>41.978</td>\n",
              "      <td>-87.906</td>\n",
              "      <td>Rochester Municipal</td>\n",
              "      <td>0.00</td>\n",
              "      <td>0.0</td>\n",
              "      <td>0.0</td>\n",
              "      <td>74.0</td>\n",
              "      <td>7.83</td>\n",
              "    </tr>\n",
              "    <tr>\n",
              "      <th>3</th>\n",
              "      <td>5</td>\n",
              "      <td>3</td>\n",
              "      <td>0</td>\n",
              "      <td>1600-1659</td>\n",
              "      <td>3</td>\n",
              "      <td>3</td>\n",
              "      <td>72</td>\n",
              "      <td>129</td>\n",
              "      <td>Delta Air Lines Inc.</td>\n",
              "      <td>34238</td>\n",
              "      <td>...</td>\n",
              "      <td>11</td>\n",
              "      <td>Atlanta Municipal</td>\n",
              "      <td>33.641</td>\n",
              "      <td>-84.427</td>\n",
              "      <td>Jacksonville International</td>\n",
              "      <td>0.00</td>\n",
              "      <td>0.0</td>\n",
              "      <td>0.0</td>\n",
              "      <td>84.0</td>\n",
              "      <td>6.71</td>\n",
              "    </tr>\n",
              "    <tr>\n",
              "      <th>4</th>\n",
              "      <td>6</td>\n",
              "      <td>7</td>\n",
              "      <td>0</td>\n",
              "      <td>1900-1959</td>\n",
              "      <td>2</td>\n",
              "      <td>1</td>\n",
              "      <td>56</td>\n",
              "      <td>173</td>\n",
              "      <td>United Air Lines Inc.</td>\n",
              "      <td>28904</td>\n",
              "      <td>...</td>\n",
              "      <td>6</td>\n",
              "      <td>Chicago O'Hare International</td>\n",
              "      <td>41.978</td>\n",
              "      <td>-87.906</td>\n",
              "      <td>NONE</td>\n",
              "      <td>0.38</td>\n",
              "      <td>0.0</td>\n",
              "      <td>0.0</td>\n",
              "      <td>81.0</td>\n",
              "      <td>10.29</td>\n",
              "    </tr>\n",
              "  </tbody>\n",
              "</table>\n",
              "<p>5 rows × 26 columns</p>\n",
              "</div>\n",
              "      <button class=\"colab-df-convert\" onclick=\"convertToInteractive('df-e2090070-d1c4-4469-80c6-4edaf804ddd2')\"\n",
              "              title=\"Convert this dataframe to an interactive table.\"\n",
              "              style=\"display:none;\">\n",
              "        \n",
              "  <svg xmlns=\"http://www.w3.org/2000/svg\" height=\"24px\"viewBox=\"0 0 24 24\"\n",
              "       width=\"24px\">\n",
              "    <path d=\"M0 0h24v24H0V0z\" fill=\"none\"/>\n",
              "    <path d=\"M18.56 5.44l.94 2.06.94-2.06 2.06-.94-2.06-.94-.94-2.06-.94 2.06-2.06.94zm-11 1L8.5 8.5l.94-2.06 2.06-.94-2.06-.94L8.5 2.5l-.94 2.06-2.06.94zm10 10l.94 2.06.94-2.06 2.06-.94-2.06-.94-.94-2.06-.94 2.06-2.06.94z\"/><path d=\"M17.41 7.96l-1.37-1.37c-.4-.4-.92-.59-1.43-.59-.52 0-1.04.2-1.43.59L10.3 9.45l-7.72 7.72c-.78.78-.78 2.05 0 2.83L4 21.41c.39.39.9.59 1.41.59.51 0 1.02-.2 1.41-.59l7.78-7.78 2.81-2.81c.8-.78.8-2.07 0-2.86zM5.41 20L4 18.59l7.72-7.72 1.47 1.35L5.41 20z\"/>\n",
              "  </svg>\n",
              "      </button>\n",
              "      \n",
              "  <style>\n",
              "    .colab-df-container {\n",
              "      display:flex;\n",
              "      flex-wrap:wrap;\n",
              "      gap: 12px;\n",
              "    }\n",
              "\n",
              "    .colab-df-convert {\n",
              "      background-color: #E8F0FE;\n",
              "      border: none;\n",
              "      border-radius: 50%;\n",
              "      cursor: pointer;\n",
              "      display: none;\n",
              "      fill: #1967D2;\n",
              "      height: 32px;\n",
              "      padding: 0 0 0 0;\n",
              "      width: 32px;\n",
              "    }\n",
              "\n",
              "    .colab-df-convert:hover {\n",
              "      background-color: #E2EBFA;\n",
              "      box-shadow: 0px 1px 2px rgba(60, 64, 67, 0.3), 0px 1px 3px 1px rgba(60, 64, 67, 0.15);\n",
              "      fill: #174EA6;\n",
              "    }\n",
              "\n",
              "    [theme=dark] .colab-df-convert {\n",
              "      background-color: #3B4455;\n",
              "      fill: #D2E3FC;\n",
              "    }\n",
              "\n",
              "    [theme=dark] .colab-df-convert:hover {\n",
              "      background-color: #434B5C;\n",
              "      box-shadow: 0px 1px 3px 1px rgba(0, 0, 0, 0.15);\n",
              "      filter: drop-shadow(0px 1px 2px rgba(0, 0, 0, 0.3));\n",
              "      fill: #FFFFFF;\n",
              "    }\n",
              "  </style>\n",
              "\n",
              "      <script>\n",
              "        const buttonEl =\n",
              "          document.querySelector('#df-e2090070-d1c4-4469-80c6-4edaf804ddd2 button.colab-df-convert');\n",
              "        buttonEl.style.display =\n",
              "          google.colab.kernel.accessAllowed ? 'block' : 'none';\n",
              "\n",
              "        async function convertToInteractive(key) {\n",
              "          const element = document.querySelector('#df-e2090070-d1c4-4469-80c6-4edaf804ddd2');\n",
              "          const dataTable =\n",
              "            await google.colab.kernel.invokeFunction('convertToInteractive',\n",
              "                                                     [key], {});\n",
              "          if (!dataTable) return;\n",
              "\n",
              "          const docLinkHtml = 'Like what you see? Visit the ' +\n",
              "            '<a target=\"_blank\" href=https://colab.research.google.com/notebooks/data_table.ipynb>data table notebook</a>'\n",
              "            + ' to learn more about interactive tables.';\n",
              "          element.innerHTML = '';\n",
              "          dataTable['output_type'] = 'display_data';\n",
              "          await google.colab.output.renderOutput(dataTable, element);\n",
              "          const docLink = document.createElement('div');\n",
              "          docLink.innerHTML = docLinkHtml;\n",
              "          element.appendChild(docLink);\n",
              "        }\n",
              "      </script>\n",
              "    </div>\n",
              "  </div>\n",
              "  "
            ]
          },
          "metadata": {},
          "execution_count": 4
        }
      ]
    },
    {
      "cell_type": "code",
      "source": [
        "df.info()"
      ],
      "metadata": {
        "colab": {
          "base_uri": "https://localhost:8080/"
        },
        "id": "2SCfwbO4hoBL",
        "outputId": "1418fc24-7022-4f2c-dbc1-f2d948a24e0b"
      },
      "execution_count": 5,
      "outputs": [
        {
          "output_type": "stream",
          "name": "stdout",
          "text": [
            "<class 'pandas.core.frame.DataFrame'>\n",
            "RangeIndex: 1266241 entries, 0 to 1266240\n",
            "Data columns (total 26 columns):\n",
            " #   Column                         Non-Null Count    Dtype  \n",
            "---  ------                         --------------    -----  \n",
            " 0   MONTH                          1266241 non-null  int64  \n",
            " 1   DAY_OF_WEEK                    1266241 non-null  int64  \n",
            " 2   DEP_DEL15                      1266241 non-null  int64  \n",
            " 3   DEP_TIME_BLK                   1266241 non-null  object \n",
            " 4   DISTANCE_GROUP                 1266241 non-null  int64  \n",
            " 5   SEGMENT_NUMBER                 1266241 non-null  int64  \n",
            " 6   CONCURRENT_FLIGHTS             1266241 non-null  int64  \n",
            " 7   NUMBER_OF_SEATS                1266241 non-null  int64  \n",
            " 8   CARRIER_NAME                   1266241 non-null  object \n",
            " 9   AIRPORT_FLIGHTS_MONTH          1266241 non-null  int64  \n",
            " 10  AIRLINE_FLIGHTS_MONTH          1266241 non-null  int64  \n",
            " 11  AIRLINE_AIRPORT_FLIGHTS_MONTH  1266241 non-null  int64  \n",
            " 12  AVG_MONTHLY_PASS_AIRPORT       1266241 non-null  int64  \n",
            " 13  AVG_MONTHLY_PASS_AIRLINE       1266241 non-null  int64  \n",
            " 14  FLT_ATTENDANTS_PER_PASS        1266241 non-null  float64\n",
            " 15  GROUND_SERV_PER_PASS           1266241 non-null  float64\n",
            " 16  PLANE_AGE                      1266241 non-null  int64  \n",
            " 17  DEPARTING_AIRPORT              1266241 non-null  object \n",
            " 18  LATITUDE                       1266241 non-null  float64\n",
            " 19  LONGITUDE                      1266241 non-null  float64\n",
            " 20  PREVIOUS_AIRPORT               1266241 non-null  object \n",
            " 21  PRCP                           1266241 non-null  float64\n",
            " 22  SNOW                           1266241 non-null  float64\n",
            " 23  SNWD                           1266241 non-null  float64\n",
            " 24  TMAX                           1266241 non-null  float64\n",
            " 25  AWND                           1266241 non-null  float64\n",
            "dtypes: float64(9), int64(13), object(4)\n",
            "memory usage: 251.2+ MB\n"
          ]
        }
      ]
    },
    {
      "cell_type": "markdown",
      "source": [
        "#### Data preprocessing"
      ],
      "metadata": {
        "id": "E4R7oon-h2NV"
      }
    },
    {
      "cell_type": "markdown",
      "source": [
        "After taking a quick look at our data, it's now time to do some preprocessing. I'm going to define a function with all of the preprocessing steps and then go over some items specifically."
      ],
      "metadata": {
        "id": "jl-oAHtah4FJ"
      }
    },
    {
      "cell_type": "code",
      "source": [
        "# Preprocessing function definitions and train test split\n",
        "def data_processing(data):\n",
        "  # target\n",
        "  y = data['DEP_DEL15']\n",
        "  # features\n",
        "  X = data.drop(['DEP_DEL15','PREVIOUS_AIRPORT'], axis=1)\n",
        "  # setting some discrete numeric features as categorical\n",
        "  X[['MONTH', 'DAY_OF_WEEK', 'DISTANCE_GROUP']] = X[['MONTH', 'DAY_OF_WEEK', 'DISTANCE_GROUP']].astype(object)\n",
        "  # defining numeric features and processor\n",
        "  numeric = X.select_dtypes(exclude='object').columns\n",
        "  numeric_processor = Pipeline([\n",
        "    ('scaler', StandardScaler())\n",
        "  ])\n",
        "  # defining categorical features and processor\n",
        "  cat = X.select_dtypes(include='object').columns\n",
        "  categorical_processor = Pipeline([\n",
        "    ('encoder', OneHotEncoder(handle_unknown='ignore'))\n",
        "  ])\n",
        "  # defining complete preprocessor\n",
        "  preprocessor = ColumnTransformer([\n",
        "    ('num', numeric_processor, numeric),\n",
        "    ('cat', categorical_processor, cat)\n",
        "  ])\n",
        "  # making train test split and fitting preprocessor\n",
        "  X_train, X_test, y_train, y_test = train_test_split(X,y,test_size=.25, random_state=909)\n",
        "  X_train = preprocessor.fit_transform(X_train)\n",
        "  X_test = preprocessor.transform(X_test)\n",
        "  feature_names = preprocessor.get_feature_names_out(X.columns)\n",
        "  \n",
        "\n",
        "  return X_train, X_test, y_train, y_test, feature_names\n",
        "\n",
        "X_train, X_test, y_train, y_test, feature_names = data_processing(df)\n"
      ],
      "metadata": {
        "id": "wDOyMxDNiOD4"
      },
      "execution_count": 6,
      "outputs": []
    },
    {
      "cell_type": "markdown",
      "source": [
        "#### Defining target and feature variables"
      ],
      "metadata": {
        "id": "62PbYWaI22P_"
      }
    },
    {
      "cell_type": "markdown",
      "source": [
        "I'm going to go over a few things just do we make sure that we all understand what's going on. First, we want to split our target and feature variables up:\n",
        "```\n",
        "y = data['DEP_DEL15']\n",
        "X = data.drop(['DEP_DEL15','PREVIOUS_AIRPORT'], axis=1)\n",
        "X[['MONTH', 'DAY_OF_WEEK', 'DISTANCE_GROUP']] = X[['MONTH', 'DAY_OF_WEEK', 'DISTANCE_GROUP']].astype(object)\n",
        "```\n",
        "Notice that in addition to dropping our target from the features, I've also dropped the PREVIOUS_AIRPORT field as well. The LATITUDE and LONGITUDE variables provide the location of the previous airport, so I felt that this would be redundant information. There were also a few discrete features that are better represented as categorical data, so that change was made as well."
      ],
      "metadata": {
        "id": "Zabdikts0UdI"
      }
    },
    {
      "cell_type": "markdown",
      "source": [
        "#### Creating preprocessing pipelines"
      ],
      "metadata": {
        "id": "Q_hqWIU82-fG"
      }
    },
    {
      "cell_type": "markdown",
      "source": [
        "Now that the target and features are in their own space. It's time to define some preprocessing pipelines. The data that we're working with has both categorical and numeric features, so it's easiest to create two seperate processors for both types, and then combine with a column transformer as follows:\n",
        "```\n",
        "numeric = X.select_dtypes(exclude='object').columns\n",
        "numeric_processor = Pipeline([\n",
        "  ('scaler', StandardScaler())\n",
        "])\n",
        "\n",
        "cat = X.select_dtypes(include='object').columns\n",
        "categorical_processor = Pipeline([\n",
        "  ('encoder', OneHotEncoder(handle_unknown='ignore'))\n",
        "])\n",
        "\n",
        "preprocessor = ColumnTransformer([\n",
        "  ('num', numeric_processor, numeric),\n",
        "  ('cat', categorical_processor, cat)\n",
        "])\n",
        "```\n",
        "In order for the column transformer to work, the indices of the features need to be passed, so those need to be defined as they are above in the numeric and cat variables. For the numeric features, the only thing that we will do is standardize the variables. The categorical features will be encoded using one hot encoding. These two processors can be combined into a single processor using the column transformer."
      ],
      "metadata": {
        "id": "RPYBjzYS3ECB"
      }
    },
    {
      "cell_type": "markdown",
      "source": [
        "#### Splitting data for training and testing\n",
        "The next step is to randomly split up the data for training and then testing the model. It's easiest to do this with the `train_test_split` function from the `sklearn` library: \n",
        "```\n",
        "X_train, X_test, y_train, y_test = train_test_split(X,y,test_size=.25 random_state=909)\n",
        "X_train = preprocessor.fit_transform(X_train)\n",
        "X_test = preprocessor.transform(X_test)\n",
        "feature_names = preprocessor.get_feature_names_out(X.columns)\n",
        "```\n",
        "After splitting up the data, push it through the preprocessor in order to apply those transformations and put the data in a final state for modeling. It's also useful to save the feature names in case you need them later.\n",
        "\n",
        "At the end of the function, we can return all of the things that we need:\n",
        "```\n",
        "return X_train, X_test, y_train, y_test, feature_names\n",
        "```\n",
        "Now we can just call the function and input the data to get everything ready to go:\n",
        "```\n",
        "X_train, X_test, y_train, y_test, feature_names = data_processing(df)\n",
        "```"
      ],
      "metadata": {
        "id": "NpiCbrVy4SmY"
      }
    },
    {
      "cell_type": "markdown",
      "source": [
        "### Training the model\n",
        "#### Hyperparameter tuning\n",
        "With all the data cleaned and processed, it's time to begin training our model. The most effective way to train a model is by tuning hyperparameters through the use of cross validation. The `hyperopt` library uses a form of Bayesian optimization for parameter tuning that allows you to get the best parameters for a given model. Hyperparameter tuning with hyperopt has three features: space, objective, and fmin. Let's first look at the space in the code below:"
      ],
      "metadata": {
        "id": "NKfvWXry6SzJ"
      }
    },
    {
      "cell_type": "markdown",
      "source": [],
      "metadata": {
        "id": "tQM-kKRDGVnj"
      }
    },
    {
      "cell_type": "code",
      "source": [
        "space = {\n",
        "    'learning_rate' : hp.choice('learning_rate', [0.01,0.1]),\n",
        "    'min_child_weight' : hp.choice('min_child_weight', np.arange(1,5,1, dtype=int)),\n",
        "    'max_depth' : hp.choice('max_depth', np.arange(3,12,3, dtype=int)),\n",
        "    'gamma': hp.choice('gamma', [i/10.0 for i in range(0,5)]),\n",
        "    'colsample_bytree': hp.choice('colsample_bytree', np.arange(0.5, 1.0, 0.1)),\n",
        "    'n_estimators': hp.choice('n_estimators', [100,150]),\n",
        "    'reg_alpha' : hp.quniform('reg_alpha', 40,180,1),\n",
        "    'reg_lambda' : hp.uniform('reg_lambda', 0,1)\n",
        "    }"
      ],
      "metadata": {
        "id": "TOGYtN6f8TPq"
      },
      "execution_count": 7,
      "outputs": []
    },
    {
      "cell_type": "markdown",
      "source": [
        "As you've probably guessed, the space holds information concerning the hyperparameters that will be tuned in the model. I'm not going to go into detail on the different hyperparameters, so be sure to check out the xgboost documentation to learn more.\n",
        "\n",
        "The next feature is the objective function, which is defined below:"
      ],
      "metadata": {
        "id": "izwgcmKf9lNt"
      }
    },
    {
      "cell_type": "code",
      "source": [
        "kfold = StratifiedKFold(n_splits=10, shuffle=True, random_state=909)\n",
        "def objective(space):\n",
        "  xgb_clf = XGBClassifier(**space, seed=909, objective='binary:logistic', tree_method='gpu_hist', scale_pos_weight=1/.187)\n",
        "  score = cross_val_score(estimator= xgb_clf,\n",
        "                          X=X_train,\n",
        "                          y=y_train,\n",
        "                          cv=kfold,\n",
        "                          scoring='f1',\n",
        "                          n_jobs=-1).mean()\n",
        "\n",
        "  loss = - score\n",
        "\n",
        "  return {'loss' : loss, 'params' : space, 'status' : STATUS_OK}"
      ],
      "metadata": {
        "id": "f-jcDSYi925g"
      },
      "execution_count": 8,
      "outputs": []
    },
    {
      "cell_type": "markdown",
      "source": [
        "The objective function holds the definition for the model, and the evaluation metric. Using `StratifiedKFoldValidation`, the best objective function will be used to optimize our metric, in this case the F1 score. \n",
        "\n",
        "There are a couple items in the objective function that I want to point out. Within the definition of the XGBClassifier, I have two additional hyperparameters set. The first is the tree_method which is set for 'gpu_hist'. This allows for the use of a GPU for training and can help train the model faster. The second is the scale_pos_weight, which can be used in the case of imbalanced data. If we take a look at the target variable, about 80% of the target variables fall into the non-delayed class. This is a heavy imbalance and requires some adjustments to the model. A good rule of thumb is to take 1 / the ratio of your less reprented class. In this case, we're going to set that weight as 1/.187 to help with the imbalance.\n",
        "\n"
      ],
      "metadata": {
        "id": "-fnEyWGt98v_"
      }
    },
    {
      "cell_type": "code",
      "source": [
        "sns.histplot(data=df, x='DEP_DEL15', stat='probability')"
      ],
      "metadata": {
        "colab": {
          "base_uri": "https://localhost:8080/",
          "height": 466
        },
        "id": "lQSfxuMoA9KG",
        "outputId": "b21a152a-611a-43ac-8a6c-d745cb3a492a"
      },
      "execution_count": 22,
      "outputs": [
        {
          "output_type": "execute_result",
          "data": {
            "text/plain": [
              "<Axes: xlabel='DEP_DEL15', ylabel='Probability'>"
            ]
          },
          "metadata": {},
          "execution_count": 22
        },
        {
          "output_type": "display_data",
          "data": {
            "text/plain": [
              "<Figure size 640x480 with 1 Axes>"
            ],
            "image/png": "[encoded data removed]"
          },
          "metadata": {}
        }
      ]
    },
    {
      "cell_type": "markdown",
      "source": [
        "\n",
        "The third feature is the `fmin` function which takes the objective function and the space and begins that cross-validation process for picking those hyperparameters. Let's get that started now:"
      ],
      "metadata": {
        "id": "43hGjKFHBA3W"
      }
    },
    {
      "cell_type": "code",
      "source": [
        "best = fmin(fn = objective, space = space, algo = tpe.suggest, max_evals = 20, return_argmin=False)\n"
      ],
      "metadata": {
        "colab": {
          "base_uri": "https://localhost:8080/"
        },
        "id": "DnCWgWTv-yI0",
        "outputId": "7599c109-1854-4a07-bd6b-cf9c7eb09dca"
      },
      "execution_count": 23,
      "outputs": [
        {
          "output_type": "stream",
          "name": "stdout",
          "text": [
            "100%|██████████| 20/20 [14:48<00:00, 44.45s/trial, best loss: -0.42560369413745747]\n"
          ]
        }
      ]
    },
    {
      "cell_type": "markdown",
      "source": [
        "Now take a look at the values for those hyperparameters"
      ],
      "metadata": {
        "id": "lOr0L_FzGFMs"
      }
    },
    {
      "cell_type": "code",
      "source": [
        "best"
      ],
      "metadata": {
        "colab": {
          "base_uri": "https://localhost:8080/"
        },
        "id": "r88XZUFhFF0v",
        "outputId": "273e2546-3220-4613-9706-1f4f7481b899"
      },
      "execution_count": 24,
      "outputs": [
        {
          "output_type": "execute_result",
          "data": {
            "text/plain": [
              "{'colsample_bytree': 0.6,\n",
              " 'gamma': 0.2,\n",
              " 'learning_rate': 0.1,\n",
              " 'max_depth': 9,\n",
              " 'min_child_weight': 1,\n",
              " 'n_estimators': 150,\n",
              " 'reg_alpha': 65.0,\n",
              " 'reg_lambda': 0.1452277681223374}"
            ]
          },
          "metadata": {},
          "execution_count": 24
        }
      ]
    },
    {
      "cell_type": "markdown",
      "source": [
        "#### Fitting the model\n",
        "Now that the hyperparemeters are tuned, we can pass the best dictionary into the XGBClassifier to fit the model."
      ],
      "metadata": {
        "id": "_UJdCJMYGPiL"
      }
    },
    {
      "cell_type": "code",
      "source": [
        "model = XGBClassifier(**best,objective='binary:logistic', tree_method='gpu_hist', scale_pos_weight=1/.187)\n",
        "model.fit(X_train,y_train)"
      ],
      "metadata": {
        "colab": {
          "base_uri": "https://localhost:8080/",
          "height": 244
        },
        "id": "_-uIQotyGkQ1",
        "outputId": "0e3fba1a-d166-42c0-b470-0cee645fe00b"
      },
      "execution_count": 25,
      "outputs": [
        {
          "output_type": "execute_result",
          "data": {
            "text/plain": [
              "XGBClassifier(base_score=None, booster=None, callbacks=None,\n",
              "              colsample_bylevel=None, colsample_bynode=None,\n",
              "              colsample_bytree=0.6, early_stopping_rounds=None,\n",
              "              enable_categorical=False, eval_metric=None, feature_types=None,\n",
              "              gamma=0.2, gpu_id=None, grow_policy=None, importance_type=None,\n",
              "              interaction_constraints=None, learning_rate=0.1, max_bin=None,\n",
              "              max_cat_threshold=None, max_cat_to_onehot=None,\n",
              "              max_delta_step=None, max_depth=9, max_leaves=None,\n",
              "              min_child_weight=1, missing=nan, monotone_constraints=None,\n",
              "              n_estimators=150, n_jobs=None, num_parallel_tree=None,\n",
              "              predictor=None, random_state=None, ...)"
            ],
            "text/html": [
              "<style>#sk-container-id-1 {color: black;background-color: white;}#sk-container-id-1 pre{padding: 0;}#sk-container-id-1 div.sk-toggleable {background-color: white;}#sk-container-id-1 label.sk-toggleable__label {cursor: pointer;display: block;width: 100%;margin-bottom: 0;padding: 0.3em;box-sizing: border-box;text-align: center;}#sk-container-id-1 label.sk-toggleable__label-arrow:before {content: \"▸\";float: left;margin-right: 0.25em;color: #696969;}#sk-container-id-1 label.sk-toggleable__label-arrow:hover:before {color: black;}#sk-container-id-1 div.sk-estimator:hover label.sk-toggleable__label-arrow:before {color: black;}#sk-container-id-1 div.sk-toggleable__content {max-height: 0;max-width: 0;overflow: hidden;text-align: left;background-color: #f0f8ff;}#sk-container-id-1 div.sk-toggleable__content pre {margin: 0.2em;color: black;border-radius: 0.25em;background-color: #f0f8ff;}#sk-container-id-1 input.sk-toggleable__control:checked~div.sk-toggleable__content {max-height: 200px;max-width: 100%;overflow: auto;}#sk-container-id-1 input.sk-toggleable__control:checked~label.sk-toggleable__label-arrow:before {content: \"▾\";}#sk-container-id-1 div.sk-estimator input.sk-toggleable__control:checked~label.sk-toggleable__label {background-color: #d4ebff;}#sk-container-id-1 div.sk-label input.sk-toggleable__control:checked~label.sk-toggleable__label {background-color: #d4ebff;}#sk-container-id-1 input.sk-hidden--visually {border: 0;clip: rect(1px 1px 1px 1px);clip: rect(1px, 1px, 1px, 1px);height: 1px;margin: -1px;overflow: hidden;padding: 0;position: absolute;width: 1px;}#sk-container-id-1 div.sk-estimator {font-family: monospace;background-color: #f0f8ff;border: 1px dotted black;border-radius: 0.25em;box-sizing: border-box;margin-bottom: 0.5em;}#sk-container-id-1 div.sk-estimator:hover {background-color: #d4ebff;}#sk-container-id-1 div.sk-parallel-item::after {content: \"\";width: 100%;border-bottom: 1px solid gray;flex-grow: 1;}#sk-container-id-1 div.sk-label:hover label.sk-toggleable__label {background-color: #d4ebff;}#sk-container-id-1 div.sk-serial::before {content: \"\";position: absolute;border-left: 1px solid gray;box-sizing: border-box;top: 0;bottom: 0;left: 50%;z-index: 0;}#sk-container-id-1 div.sk-serial {display: flex;flex-direction: column;align-items: center;background-color: white;padding-right: 0.2em;padding-left: 0.2em;position: relative;}#sk-container-id-1 div.sk-item {position: relative;z-index: 1;}#sk-container-id-1 div.sk-parallel {display: flex;align-items: stretch;justify-content: center;background-color: white;position: relative;}#sk-container-id-1 div.sk-item::before, #sk-container-id-1 div.sk-parallel-item::before {content: \"\";position: absolute;border-left: 1px solid gray;box-sizing: border-box;top: 0;bottom: 0;left: 50%;z-index: -1;}#sk-container-id-1 div.sk-parallel-item {display: flex;flex-direction: column;z-index: 1;position: relative;background-color: white;}#sk-container-id-1 div.sk-parallel-item:first-child::after {align-self: flex-end;width: 50%;}#sk-container-id-1 div.sk-parallel-item:last-child::after {align-self: flex-start;width: 50%;}#sk-container-id-1 div.sk-parallel-item:only-child::after {width: 0;}#sk-container-id-1 div.sk-dashed-wrapped {border: 1px dashed gray;margin: 0 0.4em 0.5em 0.4em;box-sizing: border-box;padding-bottom: 0.4em;background-color: white;}#sk-container-id-1 div.sk-label label {font-family: monospace;font-weight: bold;display: inline-block;line-height: 1.2em;}#sk-container-id-1 div.sk-label-container {text-align: center;}#sk-container-id-1 div.sk-container {/* jupyter's `normalize.less` sets `[hidden] { display: none; }` but bootstrap.min.css set `[hidden] { display: none !important; }` so we also need the `!important` here to be able to override the default hidden behavior on the sphinx rendered scikit-learn.org. See: https://github.com/scikit-learn/scikit-learn/issues/21755 */display: inline-block !important;position: relative;}#sk-container-id-1 div.sk-text-repr-fallback {display: none;}</style><div id=\"sk-container-id-1\" class=\"sk-top-container\"><div class=\"sk-text-repr-fallback\"><pre>XGBClassifier(base_score=None, booster=None, callbacks=None,\n",
              "              colsample_bylevel=None, colsample_bynode=None,\n",
              "              colsample_bytree=0.6, early_stopping_rounds=None,\n",
              "              enable_categorical=False, eval_metric=None, feature_types=None,\n",
              "              gamma=0.2, gpu_id=None, grow_policy=None, importance_type=None,\n",
              "              interaction_constraints=None, learning_rate=0.1, max_bin=None,\n",
              "              max_cat_threshold=None, max_cat_to_onehot=None,\n",
              "              max_delta_step=None, max_depth=9, max_leaves=None,\n",
              "              min_child_weight=1, missing=nan, monotone_constraints=None,\n",
              "              n_estimators=150, n_jobs=None, num_parallel_tree=None,\n",
              "              predictor=None, random_state=None, ...)</pre><b>In a Jupyter environment, please rerun this cell to show the HTML representation or trust the notebook. <br />On GitHub, the HTML representation is unable to render, please try loading this page with nbviewer.org.</b></div><div class=\"sk-container\" hidden><div class=\"sk-item\"><div class=\"sk-estimator sk-toggleable\"><input class=\"sk-toggleable__control sk-hidden--visually\" id=\"sk-estimator-id-1\" type=\"checkbox\" checked><label for=\"sk-estimator-id-1\" class=\"sk-toggleable__label sk-toggleable__label-arrow\">XGBClassifier</label><div class=\"sk-toggleable__content\"><pre>XGBClassifier(base_score=None, booster=None, callbacks=None,\n",
              "              colsample_bylevel=None, colsample_bynode=None,\n",
              "              colsample_bytree=0.6, early_stopping_rounds=None,\n",
              "              enable_categorical=False, eval_metric=None, feature_types=None,\n",
              "              gamma=0.2, gpu_id=None, grow_policy=None, importance_type=None,\n",
              "              interaction_constraints=None, learning_rate=0.1, max_bin=None,\n",
              "              max_cat_threshold=None, max_cat_to_onehot=None,\n",
              "              max_delta_step=None, max_depth=9, max_leaves=None,\n",
              "              min_child_weight=1, missing=nan, monotone_constraints=None,\n",
              "              n_estimators=150, n_jobs=None, num_parallel_tree=None,\n",
              "              predictor=None, random_state=None, ...)</pre></div></div></div></div></div>"
            ]
          },
          "metadata": {},
          "execution_count": 25
        }
      ]
    },
    {
      "cell_type": "markdown",
      "source": [
        "### Evaluate the model\n",
        "Now that the model has been fit, let's look at how the model performs. I am going to define a function that takes the model and the data as an input and returns accuracy, ROC_AUC, and F1:"
      ],
      "metadata": {
        "id": "8TjwiyqoGqml"
      }
    },
    {
      "cell_type": "code",
      "source": [
        "def evaluate(model,x,y):\n",
        "  preds = model.predict(x)\n",
        "  proba = model.predict_proba(x)[:,1]\n",
        "  accuracy = round(accuracy_score(y, preds),3)\n",
        "  roc_auc = round(roc_auc_score(y, proba),3)\n",
        "  f1 = round(f1_score(y,preds),3)\n",
        "\n",
        "  print(f'Accuracy: {accuracy}')\n",
        "  print(f'ROC AUC: {roc_auc}')\n",
        "  print(f'F1: {f1}')"
      ],
      "metadata": {
        "id": "wR-E6uhTGm8s"
      },
      "execution_count": 26,
      "outputs": []
    },
    {
      "cell_type": "code",
      "source": [
        "evaluate(model, X_test, y_test)"
      ],
      "metadata": {
        "colab": {
          "base_uri": "https://localhost:8080/"
        },
        "id": "K7jm5xUhG-b6",
        "outputId": "c6155f0a-e7a6-4cb6-f62f-87416c7cdcec"
      },
      "execution_count": 27,
      "outputs": [
        {
          "output_type": "stream",
          "name": "stdout",
          "text": [
            "Accuracy: 0.626\n",
            "ROC AUC: 0.74\n",
            "F1: 0.425\n"
          ]
        }
      ]
    },
    {
      "cell_type": "code",
      "source": [
        "evaluate(model, X_train, y_train)"
      ],
      "metadata": {
        "colab": {
          "base_uri": "https://localhost:8080/"
        },
        "id": "3r21xBGVHBPG",
        "outputId": "a5c24be2-31ff-453a-9805-02994021aedd"
      },
      "execution_count": 57,
      "outputs": [
        {
          "output_type": "stream",
          "name": "stdout",
          "text": [
            "Accuracy: 0.632\n",
            "ROC AUC: 0.756\n",
            "F1: 0.436\n"
          ]
        }
      ]
    },
    {
      "cell_type": "markdown",
      "source": [
        "### Conclusion\n",
        "Unfortunately, this particular dataset is a bit more difficult to accuractely model with the significant imbalance in the data. We do the best that we can with the data that is provided. In the words of famous statistician George Box, \"all models are wrong, but some are useful\". I hope that this had increased your understanding of XGBoost and it's potential for training highly generalized models and large datasets in a quick amount of time."
      ],
      "metadata": {
        "id": "kRNqsPwpHPvR"
      }
    }
  ]
}